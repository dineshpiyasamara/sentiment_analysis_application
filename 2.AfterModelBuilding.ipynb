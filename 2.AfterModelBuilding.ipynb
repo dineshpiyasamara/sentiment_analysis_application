{
 "cells": [
  {
   "cell_type": "code",
   "execution_count": 1,
   "id": "a123c32b",
   "metadata": {},
   "outputs": [],
   "source": [
    "import pickle\n",
    "import re\n",
    "import string\n",
    "import numpy as np\n",
    "import pandas as pd\n",
    "from nltk.corpus import stopwords\n",
    "from nltk.stem import WordNetLemmatizer\n",
    "lemmatizer = WordNetLemmatizer()\n",
    "sw = stopwords.words(\"english\")"
   ]
  },
  {
   "cell_type": "code",
   "execution_count": 2,
   "id": "626a00eb",
   "metadata": {},
   "outputs": [],
   "source": [
    "with open('Lab_03_2018E093/model_pkl' , 'rb') as f:\n",
    "    model = pickle.load(f)"
   ]
  },
  {
   "cell_type": "code",
   "execution_count": 3,
   "id": "0a889700",
   "metadata": {},
   "outputs": [],
   "source": [
    "text = \"not great. dissapointed. i hate\""
   ]
  },
  {
   "cell_type": "code",
   "execution_count": 4,
   "id": "d7b9e5f7",
   "metadata": {},
   "outputs": [],
   "source": [
    "data = pd.DataFrame([text])"
   ]
  },
  {
   "cell_type": "code",
   "execution_count": 5,
   "id": "7bca1e93",
   "metadata": {},
   "outputs": [
    {
     "name": "stderr",
     "output_type": "stream",
     "text": [
      "C:\\Users\\Deep Blade\\AppData\\Local\\Temp\\ipykernel_7816\\341527631.py:3: FutureWarning: The default value of regex will change from True to False in a future version.\n",
      "  data[0] = data[0].str.replace('[^\\w\\s]','')\n",
      "C:\\Users\\Deep Blade\\AppData\\Local\\Temp\\ipykernel_7816\\341527631.py:4: FutureWarning: The default value of regex will change from True to False in a future version.\n",
      "  data[0] = data[0].str.replace('\\d','')\n"
     ]
    }
   ],
   "source": [
    "data[0] = data[0].apply(lambda x: \" \".join(x.lower() for x in x.split()))\n",
    "data[0] = data[0].apply(lambda x: \" \".join(re.sub(r'^https?:\\/\\/.*[\\r\\n]*', '', x, flags=re.MULTILINE) for x in x.split()))\n",
    "data[0] = data[0].str.replace('[^\\w\\s]','')\n",
    "data[0] = data[0].str.replace('\\d','')\n",
    "data[0] = data[0].apply(lambda x: \" \".join(x for x in x.split() if x not in sw))\n",
    "data[0] = data[0].apply(lambda x: \" \".join([lemmatizer.lemmatize(word) for word in x.split()]))"
   ]
  },
  {
   "cell_type": "code",
   "execution_count": 6,
   "id": "51c5b2ef",
   "metadata": {},
   "outputs": [],
   "source": [
    "data = data[0]"
   ]
  },
  {
   "cell_type": "code",
   "execution_count": 7,
   "id": "e5cfb3d1",
   "metadata": {},
   "outputs": [],
   "source": [
    "vocab = pd.read_csv('vocabulary.txt', header=None)"
   ]
  },
  {
   "cell_type": "code",
   "execution_count": 8,
   "id": "90677647",
   "metadata": {},
   "outputs": [],
   "source": [
    "tokens = vocab[0].tolist()"
   ]
  },
  {
   "cell_type": "code",
   "execution_count": 9,
   "id": "5689f199",
   "metadata": {},
   "outputs": [],
   "source": [
    "vectorized_test_lst = []\n",
    "for sentence in data:\n",
    "    sentence_lst = np.zeros(len(tokens))\n",
    "    for i in range(len(tokens)):\n",
    "        if tokens[i] in sentence.split():\n",
    "            sentence_lst[i] = 1\n",
    "    vectorized_test_lst.append(sentence_lst)\n",
    "tested = np.asarray(vectorized_test_lst, dtype=np.float32)"
   ]
  },
  {
   "cell_type": "code",
   "execution_count": 10,
   "id": "37cc17ab",
   "metadata": {},
   "outputs": [
    {
     "data": {
      "text/plain": [
       "array([1], dtype=int64)"
      ]
     },
     "execution_count": 10,
     "metadata": {},
     "output_type": "execute_result"
    }
   ],
   "source": [
    "pred = model.predict(tested)\n",
    "pred"
   ]
  },
  {
   "cell_type": "code",
   "execution_count": null,
   "id": "10a31a0f",
   "metadata": {},
   "outputs": [],
   "source": []
  }
 ],
 "metadata": {
  "kernelspec": {
   "display_name": "Python 3 (ipykernel)",
   "language": "python",
   "name": "python3"
  },
  "language_info": {
   "codemirror_mode": {
    "name": "ipython",
    "version": 3
   },
   "file_extension": ".py",
   "mimetype": "text/x-python",
   "name": "python",
   "nbconvert_exporter": "python",
   "pygments_lexer": "ipython3",
   "version": "3.9.7"
  }
 },
 "nbformat": 4,
 "nbformat_minor": 5
}
